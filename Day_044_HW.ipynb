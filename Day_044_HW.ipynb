{
 "cells": [
  {
   "cell_type": "markdown",
   "metadata": {},
   "source": [
    "## [作業重點]\n",
    "確保你了解隨機森林模型中每個超參數的意義，並觀察調整超參數對結果的影響"
   ]
  },
  {
   "cell_type": "markdown",
   "metadata": {},
   "source": [
    "## 作業\n",
    "\n",
    "1. 試著調整 RandomForestClassifier(...) 中的參數，並觀察是否會改變結果？\n",
    "2. 改用其他資料集 (boston, wine)，並與回歸模型與決策樹的結果進行比較"
   ]
  },
  {
   "cell_type": "code",
   "execution_count": 34,
   "metadata": {},
   "outputs": [
    {
     "name": "stdout",
     "output_type": "stream",
     "text": [
      "Accuracy:  0.9473684210526315\n"
     ]
    }
   ],
   "source": [
    "from sklearn import datasets, metrics, linear_model\n",
    "from sklearn.ensemble import RandomForestClassifier, RandomForestRegressor\n",
    "from sklearn.tree import DecisionTreeRegressor\n",
    "from sklearn.model_selection import train_test_split\n",
    "\n",
    "# 讀取鳶尾花資料集\n",
    "iris = datasets.load_iris()\n",
    "\n",
    "# 切分訓練集/測試集\n",
    "x_train, x_test, y_train, y_test = train_test_split(iris.data, iris.target, test_size=0.25, random_state=4)\n",
    "\n",
    "# 建立模型 (使用 1 顆樹，每棵樹的最大深度為 4)\n",
    "clf = RandomForestClassifier(n_estimators=1, max_depth=4)\n",
    "\n",
    "# 訓練模型\n",
    "clf.fit(x_train, y_train)\n",
    "\n",
    "# 預測測試集\n",
    "y_pred = clf.predict(x_test)\n",
    "\n",
    "# Metrics\n",
    "acc = metrics.accuracy_score(y_test, y_pred)\n",
    "print(\"Accuracy: \", acc)"
   ]
  },
  {
   "cell_type": "code",
   "execution_count": 35,
   "metadata": {},
   "outputs": [
    {
     "name": "stdout",
     "output_type": "stream",
     "text": [
      "Acuuracy:  0.9736842105263158\n"
     ]
    }
   ],
   "source": [
    "# 建立模型，並調整超參數\n",
    "clf = RandomForestClassifier(n_estimators=10, max_depth=5)\n",
    "\n",
    "# 訓練模型\n",
    "clf.fit(x_train, y_train)\n",
    "\n",
    "# 預測測試集\n",
    "y_pred = clf.predict(x_test)\n",
    "\n",
    "# Metrics，鳶尾花資料集可能太簡單了，用一顆樹跟十棵樹沒什麼區別。\n",
    "acc = metrics.accuracy_score(y_test, y_pred)\n",
    "print(\"Acuuracy: \", acc)"
   ]
  },
  {
   "cell_type": "code",
   "execution_count": 36,
   "metadata": {},
   "outputs": [
    {
     "name": "stdout",
     "output_type": "stream",
     "text": [
      "Mean squared error with random forest regression:  23.77803921568627\n",
      "Mean squared error with regression tree:  25.31666666666667\n",
      "Mean squared error with linear regression:  17.038701324921952\n"
     ]
    }
   ],
   "source": [
    "# 讀取Boston房價資料集\n",
    "boston = datasets.load_boston()\n",
    "\n",
    "# 切分訓練集/測試集\n",
    "x_train, x_test, y_train, y_test = train_test_split(boston.data, boston.target, test_size=0.1, random_state=4)\n",
    "\n",
    "# 建立隨機森林迴歸模型\n",
    "regr = DecisionTreeRegressor()\n",
    "\n",
    "# 訓練模型\n",
    "regr.fit(x_train, y_train)\n",
    "\n",
    "# 預測測試集\n",
    "y_pred = regr.predict(x_test)\n",
    "\n",
    "# Metrics\n",
    "mse = metrics.mean_squared_error(y_test, y_pred)\n",
    "print(\"Mean squared error with random forest regression: \", mse)\n",
    "\n",
    "# 建立回歸樹模型\n",
    "regr = DecisionTreeRegressor()\n",
    "\n",
    "# 訓練模型\n",
    "regr.fit(x_train, y_train)\n",
    "\n",
    "# 預測測試集\n",
    "y_pred = regr.predict(x_test)\n",
    "\n",
    "# Metrics\n",
    "mse = metrics.mean_squared_error(y_test, y_pred)\n",
    "print(\"Mean squared error with regression tree: \", mse)\n",
    "\n",
    "# 建立線性回歸模型\n",
    "regr = linear_model.LinearRegression()\n",
    "\n",
    "# 訓練模型\n",
    "regr.fit(x_train, y_train)\n",
    "\n",
    "# 預測測試集\n",
    "y_pred = regr.predict(x_test)\n",
    "\n",
    "# Metrics\n",
    "mse = metrics.mean_squared_error(y_test, y_pred)\n",
    "print(\"Mean squared error with linear regression: \", mse)"
   ]
  }
 ],
 "metadata": {
  "kernelspec": {
   "display_name": "Python 3",
   "language": "python",
   "name": "python3"
  },
  "language_info": {
   "codemirror_mode": {
    "name": "ipython",
    "version": 3
   },
   "file_extension": ".py",
   "mimetype": "text/x-python",
   "name": "python",
   "nbconvert_exporter": "python",
   "pygments_lexer": "ipython3",
   "version": "3.8.5"
  }
 },
 "nbformat": 4,
 "nbformat_minor": 2
}
