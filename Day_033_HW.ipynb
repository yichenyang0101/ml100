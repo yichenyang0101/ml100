{
 "cells": [
  {
   "cell_type": "markdown",
   "metadata": {},
   "source": [
    "## 練習時間"
   ]
  },
  {
   "cell_type": "markdown",
   "metadata": {},
   "source": [
    "請觀看李宏毅教授以神奇寶貝進化 CP 值預測的範例，解說何謂機器學習與過擬合。並回答以下問題"
   ]
  },
  {
   "cell_type": "markdown",
   "metadata": {},
   "source": [
    "[youtube](https://www.youtube.com/watch?v=fegAeph9UaA)"
   ]
  },
  {
   "cell_type": "markdown",
   "metadata": {},
   "source": [
    "### 1. 模型的泛化能力 (generalization) 是指什麼？ \n",
    "\n",
    "泛化能力是指學習到的模型對未知資料的預測能力。\n",
    "\n",
    "一般來說，我們會希望模型能對新鮮樣本同樣擁有良好的預測能力，而不是一昧增加模型複雜度，來過度擬合訓練集中的樣本。\n",
    "\n",
    "### 2. 分類問題與回歸問題分別可用的目標函數有哪些？\n",
    "\n",
    "回歸問題的評估指標 - 觀察「預測值」 (Prediction) 與「實際值」 (Ground truth) 的差距\n",
    "\n",
    "• MAE, Mean Absolute Error\n",
    "\n",
    "• MSE, Mean Square Error\n",
    "\n",
    "• R-square\n",
    "\n",
    "分類問題的評估指標 - 觀察「預測值」 (Prediction) 與「實際值」 (Ground truth) 的正確程度\n",
    "\n",
    "• AUC, Area Under Curve\n",
    "\n",
    "• F1 - Score (Precision, Recall)"
   ]
  },
  {
   "cell_type": "code",
   "execution_count": null,
   "metadata": {},
   "outputs": [],
   "source": []
  }
 ],
 "metadata": {
  "kernelspec": {
   "display_name": "Python 3",
   "language": "python",
   "name": "python3"
  },
  "language_info": {
   "codemirror_mode": {
    "name": "ipython",
    "version": 3
   },
   "file_extension": ".py",
   "mimetype": "text/x-python",
   "name": "python",
   "nbconvert_exporter": "python",
   "pygments_lexer": "ipython3",
   "version": "3.8.5"
  }
 },
 "nbformat": 4,
 "nbformat_minor": 2
}
