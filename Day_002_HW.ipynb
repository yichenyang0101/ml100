{
 "cells": [
  {
   "cell_type": "markdown",
   "metadata": {},
   "source": [
    "## [作業目標]\n",
    "了解機器學習適合應用的領域與範疇。"
   ]
  },
  {
   "cell_type": "markdown",
   "metadata": {},
   "source": [
    "## [作業重點]\n",
    "透過瞭解機器學習的運作方式，找出非常適用機器學習應用的領域及其原因"
   ]
  },
  {
   "cell_type": "markdown",
   "metadata": {},
   "source": [
    "## 作業\n",
    "請找出一個你認為機器學習可以發光發熱的領域並闡述原因? "
   ]
  },
  {
   "cell_type": "markdown",
   "metadata": {},
   "source": [
    "我相信機器學習結合醫學，用於醫學診斷上將會有很大的幫助。\n",
    "\n",
    "近年來深度學習在影像處理、辨識、應用上日益成熟。\n",
    "面對各種病理掃描的圖像，有些關聯或許是我們人類難以察覺或是辨認出的。\n",
    "\n",
    "雖然深度學習用在病理診斷上，目前仍欠確足夠的可解釋性以及有醫學倫理上的挑戰。\n",
    "但透過深度學習的方式的確有可能得出比人類診斷更正確的判斷。\n",
    "\n",
    "總有一天，我們或許只需要依靠各類sensor或是掃描，將病人的數據送給電腦，\n",
    "電腦就能自動幫我們得出正確的診斷結果，並給予適當的建議。"
   ]
  }
 ],
 "metadata": {
  "kernelspec": {
   "display_name": "Python 3",
   "language": "python",
   "name": "python3"
  },
  "language_info": {
   "codemirror_mode": {
    "name": "ipython",
    "version": 3
   },
   "file_extension": ".py",
   "mimetype": "text/x-python",
   "name": "python",
   "nbconvert_exporter": "python",
   "pygments_lexer": "ipython3",
   "version": "3.8.5"
  }
 },
 "nbformat": 4,
 "nbformat_minor": 2
}
